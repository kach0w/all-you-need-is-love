{
 "cells": [
  {
   "cell_type": "code",
   "execution_count": 391,
   "metadata": {},
   "outputs": [
    {
     "name": "stdout",
     "output_type": "stream",
     "text": [
      "Requirement already satisfied: torchsummary in /Users/karthiksabhanayakam/opt/anaconda3/lib/python3.9/site-packages (1.5.1)\n",
      "Note: you may need to restart the kernel to use updated packages.\n"
     ]
    }
   ],
   "source": [
    "import numpy as np\n",
    "import matplotlib.pyplot as plt\n",
    "import torch\n",
    "import torch.nn as nn\n",
    "import torch.optim as optim\n",
    "from torch.utils.data import Dataset, DataLoader\n",
    "%pip install torchsummary\n",
    "from torchsummary import summary   \n",
    "import re"
   ]
  },
  {
   "cell_type": "code",
   "execution_count": 392,
   "metadata": {},
   "outputs": [
    {
     "name": "stdout",
     "output_type": "stream",
     "text": [
      "11455\n"
     ]
    }
   ],
   "source": [
    "file_path = \"shaky/text.txt\"\n",
    "text = open(file_path, 'r', encoding='utf-8').read()\n",
    "text = text.split(\"\\n\")\n",
    "text = \" \".join(text).lower()\n",
    "text = re.sub(\"[^a-zA-Z]\", ' ', text)\n",
    "words = text.split()\n",
    "\n",
    "chars = sorted(list(set(words)))\n",
    "ints = dict((c, i) for i, c in enumerate(chars))\n",
    "int_to_word = {i: word for word, i in ints.items()}\n",
    "n_chars = len(words)\n",
    "n_vocab = len(chars)\n",
    "print(len(ints))"
   ]
  },
  {
   "cell_type": "code",
   "execution_count": 393,
   "metadata": {},
   "outputs": [
    {
     "name": "stdout",
     "output_type": "stream",
     "text": [
      "[402, 4166, 4705, 6139, 9229, 280, 9229, 9229, 3809, 1748, 11437, 476, 280, 8190, 7924]\n",
      "10142\n",
      "['let', 'us', 'kill', 'him', 'and', 'we', 'll', 'have', 'corn', 'at', 'our', 'own', 'price', 'is', 't']\n",
      "a\n"
     ]
    }
   ],
   "source": [
    "window = 15\n",
    "dataX = []\n",
    "dataY = []\n",
    "for i in range(0, n_chars - window):\n",
    "    text_in = words[i:i+window]\n",
    "    text_out = words[i+window]\n",
    "    dataX.append([ints[char] for char in text_in])\n",
    "    dataY.append(ints[text_out])\n",
    "\n",
    "print(dataX[5])\n",
    "print(dataY[5])\n",
    "print([int_to_word[word] for word in dataX[50]])\n",
    "print(int_to_word[dataY[50]])"
   ]
  },
  {
   "cell_type": "code",
   "execution_count": 394,
   "metadata": {},
   "outputs": [
    {
     "data": {
      "text/plain": [
       "(torch.Size([208488, 15]), torch.Size([208488]))"
      ]
     },
     "execution_count": 394,
     "metadata": {},
     "output_type": "execute_result"
    }
   ],
   "source": [
    "# 100 x 1115283\n",
    "# sample, timesteps, features\n",
    "X = torch.LongTensor(dataX)\n",
    "y = torch.LongTensor(dataY)\n",
    "# X = torch.tensor(dataX, dtype=torch.long)\n",
    "# y = torch.tensor(dataY).reshape(len(dataY), 1).float()\n",
    "X.shape, y.shape\n"
   ]
  },
  {
   "cell_type": "code",
   "execution_count": 395,
   "metadata": {},
   "outputs": [],
   "source": [
    "import math\n",
    "class PositionalEncoding(nn.Module):\n",
    "    def __init__(self, max_len, d_model, dropout=0.1):\n",
    "        \"\"\"\n",
    "        :param max_len: Input length sequence.\n",
    "        :param d_model: Embedding dimension.\n",
    "        :param dropout: Dropout value (default=0.1)\n",
    "        \"\"\"\n",
    "        super(PositionalEncoding, self).__init__()\n",
    "        self.dropout = nn.Dropout(p=dropout)\n",
    "        pe = torch.zeros(max_len, d_model)\n",
    "        position = torch.arange(0, max_len, dtype=torch.float).unsqueeze(1)\n",
    "        div_term = torch.exp(torch.arange(0, d_model, 2).float() * (-math.log(10000.0) / d_model))\n",
    "        pe[:, 0::2] = torch.sin(position * div_term)\n",
    "        pe[:, 1::2] = torch.cos(position * div_term)\n",
    "        pe = pe.unsqueeze(0)\n",
    "        self.register_buffer('pe', pe)\n",
    "    def forward(self, x):\n",
    "        \"\"\"\n",
    "        Inputs of forward function\n",
    "        :param x: the sequence fed to the positional encoder model (required).\n",
    "        Shape:\n",
    "            x: [sequence length, batch size, embed dim]\n",
    "            output: [sequence length, batch size, embed dim]\n",
    "        \"\"\"\n",
    "        x = x + self.pe[:, :x.size(1)]\n",
    "        return self.dropout(x)"
   ]
  },
  {
   "cell_type": "code",
   "execution_count": 399,
   "metadata": {},
   "outputs": [
    {
     "name": "stdout",
     "output_type": "stream",
     "text": [
      "14152511\n"
     ]
    }
   ],
   "source": [
    " \n",
    "class tnn(nn.Module):\n",
    "    def __init__(self, input_dim, hidden_dim, num_layers, n_heads):\n",
    "        super(tnn, self).__init__()\n",
    "        self.pos_encoder = PositionalEncoding(max_len=15, d_model=hidden_dim)\n",
    "        self.embedding = nn.Embedding(input_dim, hidden_dim)\n",
    "        self.decoder_layer = nn.TransformerDecoderLayer(hidden_dim, n_heads, batch_first=True)\n",
    "        self.decoder = nn.TransformerDecoder(self.decoder_layer, num_layers)\n",
    "        self.dropout = nn.Dropout(0.2)\n",
    "        self.fc = nn.Linear(hidden_dim, input_dim)\n",
    "\n",
    "    def forward(self, x):\n",
    "        x = self.embedding(x)\n",
    "        sz = x.size(1) \n",
    "        mask = (torch.triu(torch.ones(sz, sz)) == 1).transpose(0, 1)\n",
    "        mask = mask.float().masked_fill(mask == 0, float('-inf')).masked_fill(mask == 1, float(0.0))\n",
    "        x = self.pos_encoder(x)\n",
    "        x = self.decoder(x, memory=x, tgt_mask=mask, memory_mask=mask)\n",
    "        x = self.dropout(x)\n",
    "        x = self.fc(x[:, -1, :])\n",
    "        return x\n",
    "\n",
    "model = tnn(input_dim=n_vocab, hidden_dim=128, num_layers=16, n_heads=16)\n",
    "criterion = nn.CrossEntropyLoss(reduction=\"sum\")\n",
    "optimizer = torch.optim.Adam(model.parameters())\n",
    "loader = DataLoader(torch.utils.data.TensorDataset(X, y), shuffle=True, batch_size=32)\n",
    "params = sum(p.numel() for p in model.parameters())\n",
    "print(params)"
   ]
  },
  {
   "cell_type": "code",
   "execution_count": 400,
   "metadata": {},
   "outputs": [
    {
     "name": "stdout",
     "output_type": "stream",
     "text": [
      "----------\n",
      "EPOCH 1\n",
      "Loss 214.96992714976565\n",
      "----------\n",
      "EPOCH 2\n",
      "Loss 202.96851496496853\n",
      "----------\n",
      "EPOCH 3\n",
      "Loss 197.51552010702295\n",
      "----------\n",
      "EPOCH 4\n",
      "Loss 194.3447470255309\n",
      "----------\n",
      "EPOCH 5\n",
      "Loss 191.90840451484365\n",
      "----------\n",
      "EPOCH 6\n",
      "Loss 189.72071683601234\n",
      "----------\n",
      "EPOCH 7\n",
      "Loss 187.86340266557397\n",
      "----------\n",
      "EPOCH 8\n",
      "Loss 186.26106362196276\n",
      "----------\n",
      "EPOCH 9\n",
      "Loss 184.60165646895814\n",
      "----------\n",
      "EPOCH 10\n",
      "Loss 183.1736670337055\n",
      "----------\n",
      "EPOCH 11\n",
      "Loss 181.75085132871575\n",
      "----------\n",
      "EPOCH 12\n",
      "Loss 180.42690953326095\n",
      "----------\n",
      "EPOCH 13\n",
      "Loss 179.0037857734262\n",
      "----------\n",
      "EPOCH 14\n",
      "Loss 177.71452723610295\n",
      "----------\n",
      "EPOCH 15\n",
      "Loss 176.6316256363034\n",
      "----------\n",
      "EPOCH 16\n",
      "Loss 175.2691707575222\n",
      "----------\n",
      "EPOCH 17\n",
      "Loss 174.26622427721574\n",
      "----------\n",
      "EPOCH 18\n",
      "Loss 173.11502691905434\n",
      "----------\n",
      "EPOCH 19\n",
      "Loss 171.95885672748037\n",
      "----------\n",
      "EPOCH 20\n",
      "Loss 170.8194792921575\n",
      "----------\n",
      "EPOCH 21\n",
      "Loss 169.8144748677937\n",
      "----------\n",
      "EPOCH 22\n",
      "Loss 168.81665269428586\n",
      "----------\n",
      "EPOCH 23\n",
      "Loss 167.7994383290158\n",
      "----------\n",
      "EPOCH 24\n",
      "Loss 166.6759260957868\n",
      "----------\n",
      "EPOCH 25\n",
      "Loss 165.80867335159712\n",
      "----------\n",
      "EPOCH 26\n",
      "Loss 164.8637760798063\n",
      "----------\n",
      "EPOCH 27\n",
      "Loss 163.98130036864148\n",
      "----------\n",
      "EPOCH 28\n",
      "Loss 163.2260167254467\n",
      "----------\n",
      "EPOCH 29\n",
      "Loss 162.17061942571746\n",
      "----------\n",
      "EPOCH 30\n",
      "Loss 161.41202553890008\n",
      "----------\n",
      "EPOCH 31\n",
      "Loss 160.47482607413232\n",
      "----------\n",
      "EPOCH 32\n",
      "Loss 159.96511509850205\n",
      "----------\n",
      "EPOCH 33\n",
      "Loss 159.1130647428394\n",
      "----------\n",
      "EPOCH 34\n",
      "Loss 158.46316431185394\n",
      "----------\n",
      "EPOCH 35\n",
      "Loss 157.84962121767285\n",
      "----------\n",
      "EPOCH 36\n",
      "Loss 157.20407446191635\n",
      "----------\n",
      "EPOCH 37\n",
      "Loss 156.57966990613787\n",
      "----------\n",
      "EPOCH 38\n",
      "Loss 155.97479026390144\n",
      "----------\n",
      "EPOCH 39\n",
      "Loss 155.38380348767942\n",
      "----------\n",
      "EPOCH 40\n",
      "Loss 155.0341845322431\n",
      "----------\n",
      "EPOCH 41\n",
      "Loss 154.34896609783263\n",
      "----------\n",
      "EPOCH 42\n",
      "Loss 153.9060399921403\n",
      "----------\n",
      "EPOCH 43\n",
      "Loss 153.43588974442835\n",
      "----------\n",
      "EPOCH 44\n",
      "Loss 152.97918567779695\n",
      "----------\n",
      "EPOCH 45\n",
      "Loss 152.37067896033244\n",
      "----------\n",
      "EPOCH 46\n",
      "Loss 151.81956311508358\n",
      "----------\n",
      "EPOCH 47\n",
      "Loss 151.49116730582966\n",
      "----------\n",
      "EPOCH 48\n",
      "Loss 151.02629717599999\n",
      "----------\n",
      "EPOCH 49\n",
      "Loss 150.43540422221403\n",
      "----------\n",
      "EPOCH 50\n",
      "Loss 149.98825811883273\n"
     ]
    }
   ],
   "source": [
    "epochs = 50\n",
    "losses = []\n",
    "for epoch in range(epochs):\n",
    "    model.train()\n",
    "    running_loss = 0\n",
    "    lenny = 0\n",
    "    for X_batch, y_batch in loader:\n",
    "        optimizer.zero_grad()\n",
    "        pred = model(X_batch)\n",
    "        loss = criterion(pred, y_batch)\n",
    "        loss.backward()\n",
    "        optimizer.step()\n",
    "        running_loss += loss.item() * X_batch.shape[0]\n",
    "        lenny += X_batch.shape[0]\n",
    "    epoch_loss = running_loss / lenny\n",
    "    losses.append(epoch_loss)\n",
    "    print(\"-\" * 10)\n",
    "    print(f\"EPOCH {epoch+1}\")\n",
    "    print(f\"Loss {epoch_loss}\")"
   ]
  },
  {
   "cell_type": "code",
   "execution_count": 401,
   "metadata": {},
   "outputs": [
    {
     "data": {
      "image/png": "[encoded data removed]",
      "text/plain": [
       "<Figure size 432x288 with 1 Axes>"
      ]
     },
     "metadata": {
      "needs_background": "light"
     },
     "output_type": "display_data"
    }
   ],
   "source": [
    "x = np.arange(1, 51)\n",
    "plt.plot(x, losses, 'o-')\n",
    "plt.xlabel('Epoch')\n",
    "plt.ylabel('Loss')\n",
    "plt.title('TNN Losses')\n",
    "plt.show()"
   ]
  },
  {
   "cell_type": "code",
   "execution_count": 411,
   "metadata": {},
   "outputs": [
    {
     "name": "stdout",
     "output_type": "stream",
     "text": [
      "Prompt: \"fellow the general is my lover i have been the book of his good acts\"\n",
      "--------------------\n",
      "Generated Text: are dedicate to the earth and that i am not in the world to thee "
     ]
    }
   ],
   "source": [
    "start = np.random.randint(0, len(words)-window)\n",
    "prompt = words[start:start+window]\n",
    "pattern = [ints[c] for c in prompt]\n",
    "model.eval()\n",
    "print('Prompt: \"%s\"' % \" \".join(prompt))\n",
    "print(\"--\" * 10)\n",
    "print(\"Generated Text: \", end = \"\")\n",
    "with torch.no_grad():\n",
    "    for i in range(15):\n",
    "        x = torch.LongTensor(pattern).reshape(1, 15)\n",
    "        pred = model(x)\n",
    "        output = torch.tensor([seq.argmax() for seq in pred]).item()\n",
    "        result = int_to_word[output]\n",
    "        print(result, end=\" \")\n",
    "        pattern.append(output)\n",
    "        pattern = pattern[1:]"
   ]
  }
 ],
 "metadata": {
  "kernelspec": {
   "display_name": "base",
   "language": "python",
   "name": "python3"
  },
  "language_info": {
   "codemirror_mode": {
    "name": "ipython",
    "version": 3
   },
   "file_extension": ".py",
   "mimetype": "text/x-python",
   "name": "python",
   "nbconvert_exporter": "python",
   "pygments_lexer": "ipython3",
   "version": "3.9.12"
  }
 },
 "nbformat": 4,
 "nbformat_minor": 2
}
